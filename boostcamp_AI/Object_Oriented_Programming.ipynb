{
 "cells": [
  {
   "attachments": {},
   "cell_type": "markdown",
   "metadata": {},
   "source": [
    "주체들 선정 >> 행동 >> 데이터  \n",
    "객체 지향 프로그램 이해 필요 (OOP)  \n",
    "속성(변수: variable) 과 행동(함수: method)  \n",
    "파이썬 역시 객체 지향 언어"
   ]
  },
  {
   "attachments": {},
   "cell_type": "markdown",
   "metadata": {},
   "source": [
    "class: 객체의 설계도 (ex: 빵 틀)  \n",
    "instance: 실제 구현체 (ex: 빵 )  "
   ]
  },
  {
   "attachments": {},
   "cell_type": "markdown",
   "metadata": {},
   "source": [
    "파이썬 함수, 변수명: 띄어쓰기 부분에 '_' 사용  \n",
    "파이썬 class명: 띄어쓰기 부분에 대문자 사용  "
   ]
  },
  {
   "attachments": {},
   "cell_type": "markdown",
   "metadata": {},
   "source": [
    "* Attribute 추가: __init__, self 와 함께\n",
    "* __init__ 은 객체 초기화 예약 함수\n",
    "* __ 는 특수한 예약함수나 변수 그리고 함수명 변경(맨글링)으로 사용"
   ]
  },
  {
   "cell_type": "code",
   "execution_count": 8,
   "metadata": {},
   "outputs": [],
   "source": [
    "## 설계도\n",
    "class SoccerPlayer():  ## 상속\n",
    "    def __init__(self, name : str, position : str, back_number : int):  ## self: 객체\n",
    "        self.name = name                                                ## name, position, back_number: 속성(정보), 행동(method)\n",
    "        self.position = position                                        ## self. 으로 객체의 초기 정보 선언\n",
    "        self.back_number = back_number                                  ## 하나의 객체의 정보 초기화\n",
    "    \n",
    "    def __str__(self):                                                                  ## print 시 문자열\n",
    "        return f\"Hello, My name is {self.name}. My back number is {self.back_number}.\"\n",
    "    \n",
    "    def __add__(self, other):           ## 더해준다.\n",
    "        return self.name + other.name"
   ]
  },
  {
   "cell_type": "code",
   "execution_count": 9,
   "metadata": {},
   "outputs": [],
   "source": [
    "## 객체 생성\n",
    "Son = SoccerPlayer(\"son\", \"FW\", 7)\n",
    "Park = SoccerPlayer(\"park\", \"WF\", 13)"
   ]
  },
  {
   "cell_type": "code",
   "execution_count": 10,
   "metadata": {},
   "outputs": [
    {
     "data": {
      "text/plain": [
       "False"
      ]
     },
     "execution_count": 10,
     "metadata": {},
     "output_type": "execute_result"
    }
   ],
   "source": [
    "Son is Park"
   ]
  },
  {
   "cell_type": "code",
   "execution_count": 12,
   "metadata": {},
   "outputs": [
    {
     "name": "stdout",
     "output_type": "stream",
     "text": [
      "Hello, My name is son. My back number is 7. Hello, My name is park. My back number is 13.\n"
     ]
    }
   ],
   "source": [
    "print(Son, Park)"
   ]
  },
  {
   "cell_type": "code",
   "execution_count": 14,
   "metadata": {},
   "outputs": [
    {
     "data": {
      "text/plain": [
       "(<__main__.SoccerPlayer at 0x22aff15ccd0>,\n",
       " <__main__.SoccerPlayer at 0x22aff157d30>)"
      ]
     },
     "execution_count": 14,
     "metadata": {},
     "output_type": "execute_result"
    }
   ],
   "source": [
    "Son, Park"
   ]
  }
 ],
 "metadata": {
  "kernelspec": {
   "display_name": "test01",
   "language": "python",
   "name": "python3"
  },
  "language_info": {
   "codemirror_mode": {
    "name": "ipython",
    "version": 3
   },
   "file_extension": ".py",
   "mimetype": "text/x-python",
   "name": "python",
   "nbconvert_exporter": "python",
   "pygments_lexer": "ipython3",
   "version": "3.9.16"
  },
  "orig_nbformat": 4
 },
 "nbformat": 4,
 "nbformat_minor": 2
}
